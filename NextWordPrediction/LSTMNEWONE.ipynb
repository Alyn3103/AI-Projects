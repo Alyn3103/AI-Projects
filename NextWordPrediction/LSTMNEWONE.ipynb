{
  "nbformat": 4,
  "nbformat_minor": 0,
  "metadata": {
    "colab": {
      "provenance": [],
      "toc_visible": true,
      "mount_file_id": "1cGhCbr2Vt53o1ElhNu6PObcqneN9SD7p",
      "authorship_tag": "ABX9TyO5A+nymTNomNLNyCu8wlgU",
      "include_colab_link": true
    },
    "kernelspec": {
      "name": "python3",
      "display_name": "Python 3"
    },
    "language_info": {
      "name": "python"
    },
    "accelerator": "GPU",
    "gpuClass": "standard"
  },
  "cells": [
    {
      "cell_type": "markdown",
      "metadata": {
        "id": "view-in-github",
        "colab_type": "text"
      },
      "source": [
        "<a href=\"https://colab.research.google.com/github/Alyn3103/AI-Projects/blob/main/NextWordPrediction/LSTMNEWONE.ipynb\" target=\"_parent\"><img src=\"https://colab.research.google.com/assets/colab-badge.svg\" alt=\"Open In Colab\"/></a>"
      ]
    },
    {
      "cell_type": "code",
      "execution_count": null,
      "metadata": {
        "id": "E9ghNT3RbNn0"
      },
      "outputs": [],
      "source": [
        "import tensorflow as tf\n",
        "from tensorflow.keras.preprocessing.text import Tokenizer\n",
        "from tensorflow.keras.utils import to_categorical\n",
        "from tensorflow.keras.models import Sequential\n",
        "from tensorflow.keras.layers import Dense, LSTM, Embedding\n",
        "from tensorflow.keras.preprocessing.sequence import pad_sequences\n",
        "import pickle\n",
        "import numpy as np\n",
        "import os\n",
        "import string\n",
        "import requests"
      ]
    },
    {
      "cell_type": "markdown",
      "source": [
        "# Pre Processing Data and Tokenization\n"
      ],
      "metadata": {
        "id": "LDHi_9_DmRVW"
      }
    },
    {
      "cell_type": "code",
      "source": [
        "Dracula = \"/content/drive/MyDrive/MLPAPER/Dracula.txt\"\n",
        "raw_text = open(Dracula, 'r', encoding='utf-8').read()  #incase it isnt in utf8\n",
        "raw_text = raw_text.lower()                             # convert in lower  for easy training\n",
        "print(raw_text[0:1000])"
      ],
      "metadata": {
        "id": "K1JUmdX0jOjH",
        "colab": {
          "base_uri": "https://localhost:8080/"
        },
        "outputId": "2f81558b-d467-45d3-e898-25e0b18a30e1"
      },
      "execution_count": null,
      "outputs": [
        {
          "output_type": "stream",
          "name": "stdout",
          "text": [
            "﻿the project gutenberg ebook of dracula, by bram stoker\n",
            "\n",
            "this ebook is for the use of anyone anywhere in the united states and\n",
            "most other parts of the world at no cost and with almost no restrictions\n",
            "whatsoever. you may copy it, give it away or re-use it under the terms\n",
            "of the project gutenberg license included with this ebook or online at\n",
            "www.gutenberg.org. if you are not located in the united states, you\n",
            "will have to check the laws of the country where you are located before\n",
            "using this ebook.\n",
            "\n",
            "title: dracula\n",
            "\n",
            "author: bram stoker\n",
            "\n",
            "release date: october, 1995 [ebook #345]\n",
            "[most recently updated: march 27, 2023]\n",
            "\n",
            "language: english\n",
            "\n",
            "\n",
            "produced by: chuck greif and the online distributed proofreading team\n",
            "\n",
            "*** start of the project gutenberg ebook dracula ***\n",
            "\n",
            "\n",
            "\n",
            "\n",
            "                                dracula\n",
            "\n",
            "                                  _by_\n",
            "\n",
            "                              bram stoker\n",
            "\n",
            "                        [illustration: colophon]\n",
            "\n",
            "                                new york\n",
            "\n",
            "                \n"
          ]
        }
      ]
    },
    {
      "cell_type": "code",
      "source": [
        "data = raw_text.split('\\n')\n",
        "data[0]"
      ],
      "metadata": {
        "colab": {
          "base_uri": "https://localhost:8080/",
          "height": 36
        },
        "id": "0ni6heWhsjl5",
        "outputId": "1ee64fb4-617d-4881-c773-a527c060a470"
      },
      "execution_count": null,
      "outputs": [
        {
          "output_type": "execute_result",
          "data": {
            "text/plain": [
              "'\\ufeffthe project gutenberg ebook of dracula, by bram stoker'"
            ],
            "application/vnd.google.colaboratory.intrinsic+json": {
              "type": "string"
            }
          },
          "metadata": {},
          "execution_count": 6
        }
      ]
    },
    {
      "cell_type": "code",
      "source": [
        "data = data[119:]   #The text file contains a header file before the actual data begins. The actual data begins from line 119 so cut em\n",
        "data[0]"
      ],
      "metadata": {
        "colab": {
          "base_uri": "https://localhost:8080/",
          "height": 36
        },
        "id": "lhls6JkFs2Lw",
        "outputId": "3ddf2696-9e16-46e4-e572-aa1a5c5c2a55"
      },
      "execution_count": null,
      "outputs": [
        {
          "output_type": "execute_result",
          "data": {
            "text/plain": [
              "'vienna early next morning; should have arrived at 6:46, but train was an'"
            ],
            "application/vnd.google.colaboratory.intrinsic+json": {
              "type": "string"
            }
          },
          "metadata": {},
          "execution_count": 7
        }
      ]
    },
    {
      "cell_type": "code",
      "source": [
        "len(data)"
      ],
      "metadata": {
        "colab": {
          "base_uri": "https://localhost:8080/"
        },
        "id": "lTwg8Ya-tDgG",
        "outputId": "3a428ca3-3bc1-4fcc-ce60-110fdbc0927e"
      },
      "execution_count": null,
      "outputs": [
        {
          "output_type": "execute_result",
          "data": {
            "text/plain": [
              "15751"
            ]
          },
          "metadata": {},
          "execution_count": 8
        }
      ]
    },
    {
      "cell_type": "code",
      "source": [
        "data = \" \".join(data)\n",
        "data[:1000]"
      ],
      "metadata": {
        "colab": {
          "base_uri": "https://localhost:8080/",
          "height": 105
        },
        "id": "5wZCyo8BtM7W",
        "outputId": "0c9d4457-12d3-420d-daa7-b06061938886"
      },
      "execution_count": null,
      "outputs": [
        {
          "output_type": "execute_result",
          "data": {
            "text/plain": [
              "'vienna early next morning; should have arrived at 6:46, but train was an hour late. buda-pesth seems a wonderful place, from the glimpse which i got of it from the train and the little i could walk through the streets. i feared to go very far from the station, as we had arrived late and would start as near the correct time as possible. the impression i had was that we were leaving the west and entering the east; the most western of splendid bridges over the danube, which is here of noble width and depth, took us among the traditions of turkish rule.  we left in pretty good time, and came after nightfall to klausenburgh. here i stopped for the night at the hotel royale. i had for dinner, or rather supper, a chicken done up some way with red pepper, which was very good but thirsty. (_mem._, get recipe for mina.) i asked the waiter, and he said it was called \"paprika hendl,\" and that, as it was a national dish, i should be able to get it anywhere along the carpathians. i found my smatteri'"
            ],
            "application/vnd.google.colaboratory.intrinsic+json": {
              "type": "string"
            }
          },
          "metadata": {},
          "execution_count": 9
        }
      ]
    },
    {
      "cell_type": "code",
      "source": [
        "def clean_text(doc):\n",
        "  tokens = doc.split()\n",
        "  table = str.maketrans('', '', string.punctuation)\n",
        "  tokens = [w.translate(table) for w in tokens]\n",
        "  tokens = [word for word in tokens if word.isalpha()]\n",
        "  tokens = [word.lower() for word in tokens]\n",
        "  return tokens\n",
        "\n",
        "tokens = clean_text(data)\n",
        "print(tokens[:50])"
      ],
      "metadata": {
        "colab": {
          "base_uri": "https://localhost:8080/"
        },
        "id": "He06BCPHtXuv",
        "outputId": "155ab475-53b4-4bf0-ef4b-932116f31c6b"
      },
      "execution_count": null,
      "outputs": [
        {
          "output_type": "stream",
          "name": "stdout",
          "text": [
            "['vienna', 'early', 'next', 'morning', 'should', 'have', 'arrived', 'at', 'but', 'train', 'was', 'an', 'hour', 'late', 'budapesth', 'seems', 'a', 'wonderful', 'place', 'from', 'the', 'glimpse', 'which', 'i', 'got', 'of', 'it', 'from', 'the', 'train', 'and', 'the', 'little', 'i', 'could', 'walk', 'through', 'the', 'streets', 'i', 'feared', 'to', 'go', 'very', 'far', 'from', 'the', 'station', 'as', 'we']\n"
          ]
        }
      ]
    },
    {
      "cell_type": "code",
      "source": [
        "len(tokens)"
      ],
      "metadata": {
        "colab": {
          "base_uri": "https://localhost:8080/"
        },
        "id": "zezYQrQ6tc0W",
        "outputId": "03237a7e-2b60-4b7d-9c09-2679956a1f27"
      },
      "execution_count": null,
      "outputs": [
        {
          "output_type": "execute_result",
          "data": {
            "text/plain": [
              "163018"
            ]
          },
          "metadata": {},
          "execution_count": 11
        }
      ]
    },
    {
      "cell_type": "code",
      "source": [
        "len(set(tokens))"
      ],
      "metadata": {
        "colab": {
          "base_uri": "https://localhost:8080/"
        },
        "id": "HusvTycotrPm",
        "outputId": "3d61e7d0-cde3-4dd4-a848-26c901894afe"
      },
      "execution_count": null,
      "outputs": [
        {
          "output_type": "execute_result",
          "data": {
            "text/plain": [
              "10692"
            ]
          },
          "metadata": {},
          "execution_count": 10
        }
      ]
    },
    {
      "cell_type": "code",
      "source": [
        "length = 50 + 1\n",
        "lines = []\n",
        "\n",
        "for i in range(length, len(tokens)):\n",
        "  seq = tokens[i-length:i]\n",
        "  line = ' '.join(seq)\n",
        "  lines.append(line)\n",
        "  if i > 200000:\n",
        "    break\n",
        "\n",
        "print(len(lines))"
      ],
      "metadata": {
        "colab": {
          "base_uri": "https://localhost:8080/"
        },
        "id": "1h0whfvPsXlC",
        "outputId": "8ccd9aa1-566c-4fee-d8fa-af4b084bf03c"
      },
      "execution_count": null,
      "outputs": [
        {
          "output_type": "stream",
          "name": "stdout",
          "text": [
            "162967\n"
          ]
        }
      ]
    },
    {
      "cell_type": "code",
      "source": [
        "lines[0]  # this line consist of 51 words ,50 to use and 51st to predict"
      ],
      "metadata": {
        "colab": {
          "base_uri": "https://localhost:8080/",
          "height": 53
        },
        "id": "0LoqC83jt1CE",
        "outputId": "cdf666ec-38ba-45a1-ea53-62acb8c4d170"
      },
      "execution_count": null,
      "outputs": [
        {
          "output_type": "execute_result",
          "data": {
            "text/plain": [
              "'vienna early next morning should have arrived at but train was an hour late budapesth seems a wonderful place from the glimpse which i got of it from the train and the little i could walk through the streets i feared to go very far from the station as we had'"
            ],
            "application/vnd.google.colaboratory.intrinsic+json": {
              "type": "string"
            }
          },
          "metadata": {},
          "execution_count": 13
        }
      ]
    },
    {
      "cell_type": "code",
      "source": [
        "tokens[50] #this will be predicted"
      ],
      "metadata": {
        "colab": {
          "base_uri": "https://localhost:8080/",
          "height": 36
        },
        "id": "taH17Ktut7_o",
        "outputId": "56ad92d2-a9de-4c28-96d4-545f7ea4a948"
      },
      "execution_count": null,
      "outputs": [
        {
          "output_type": "execute_result",
          "data": {
            "text/plain": [
              "'had'"
            ],
            "application/vnd.google.colaboratory.intrinsic+json": {
              "type": "string"
            }
          },
          "metadata": {},
          "execution_count": 14
        }
      ]
    },
    {
      "cell_type": "code",
      "source": [
        "lines[1] # each line we will hop by one word"
      ],
      "metadata": {
        "colab": {
          "base_uri": "https://localhost:8080/",
          "height": 53
        },
        "id": "-H5kDZbouBOs",
        "outputId": "8f68f638-beaf-4adc-a5da-f50395076b58"
      },
      "execution_count": null,
      "outputs": [
        {
          "output_type": "execute_result",
          "data": {
            "text/plain": [
              "'early next morning should have arrived at but train was an hour late budapesth seems a wonderful place from the glimpse which i got of it from the train and the little i could walk through the streets i feared to go very far from the station as we had arrived'"
            ],
            "application/vnd.google.colaboratory.intrinsic+json": {
              "type": "string"
            }
          },
          "metadata": {},
          "execution_count": 15
        }
      ]
    },
    {
      "cell_type": "code",
      "source": [
        "tokenizer = Tokenizer()\n",
        "tokenizer.fit_on_texts(lines)\n",
        "sequences = tokenizer.texts_to_sequences(lines)"
      ],
      "metadata": {
        "id": "SwSFm4rwtP6b"
      },
      "execution_count": null,
      "outputs": []
    },
    {
      "cell_type": "code",
      "source": [
        "sequences = np.array(sequences)\n",
        "X, y = sequences[:, :-1], sequences[:,-1]\n",
        "X[0]"
      ],
      "metadata": {
        "colab": {
          "base_uri": "https://localhost:8080/"
        },
        "id": "i7Dx8-E5bBBW",
        "outputId": "b08ff625-aa4b-4f6a-84c2-87c0d8b918cc"
      },
      "execution_count": null,
      "outputs": [
        {
          "output_type": "execute_result",
          "data": {
            "text/plain": [
              "array([10692,   483,   440,   212,   119,    28,   791,    25,    27,\n",
              "         482,    11,    69,   347,   321,  2121,   273,     6,   607,\n",
              "         167,    38,     1,  1879,    36,     3,   145,     5,    10,\n",
              "          38,     1,   482,     2,     1,   140,     3,    45,   913,\n",
              "         111,     1,  2966,     3,   586,     4,    83,    85,   219,\n",
              "          38,     1,   878,    12,    13])"
            ]
          },
          "metadata": {},
          "execution_count": 17
        }
      ]
    },
    {
      "cell_type": "code",
      "source": [
        "vocab_size = len(tokenizer.word_index) + 1"
      ],
      "metadata": {
        "id": "9ajtiXpdbVRp"
      },
      "execution_count": null,
      "outputs": []
    },
    {
      "cell_type": "code",
      "source": [
        "y = to_categorical(y, num_classes=vocab_size)"
      ],
      "metadata": {
        "id": "tP3fpQOgcDRE"
      },
      "execution_count": null,
      "outputs": []
    },
    {
      "cell_type": "code",
      "source": [
        "seq_length = X.shape[1]\n",
        "seq_length"
      ],
      "metadata": {
        "colab": {
          "base_uri": "https://localhost:8080/"
        },
        "id": "n888Xxt3ubYe",
        "outputId": "f080c391-01ac-4288-d4f2-2cc07e84297c"
      },
      "execution_count": null,
      "outputs": [
        {
          "output_type": "execute_result",
          "data": {
            "text/plain": [
              "50"
            ]
          },
          "metadata": {},
          "execution_count": 20
        }
      ]
    },
    {
      "cell_type": "code",
      "source": [
        "model = Sequential()\n",
        "model.add(Embedding(vocab_size, 50, input_length=seq_length))\n",
        "model.add(LSTM(100, return_sequences=True))\n",
        "model.add(LSTM(100))\n",
        "model.add(Dense(100, activation='relu'))\n",
        "model.add(Dense(vocab_size, activation='softmax'))"
      ],
      "metadata": {
        "id": "GAw0iVZiufFJ"
      },
      "execution_count": null,
      "outputs": []
    },
    {
      "cell_type": "code",
      "source": [
        "model.summary()"
      ],
      "metadata": {
        "colab": {
          "base_uri": "https://localhost:8080/"
        },
        "id": "Xf0BYQBxuky2",
        "outputId": "8be03bae-78f8-4bfc-b62e-48c0b91e66e8"
      },
      "execution_count": null,
      "outputs": [
        {
          "output_type": "stream",
          "name": "stdout",
          "text": [
            "Model: \"sequential\"\n",
            "_________________________________________________________________\n",
            " Layer (type)                Output Shape              Param #   \n",
            "=================================================================\n",
            " embedding (Embedding)       (None, 50, 50)            534650    \n",
            "                                                                 \n",
            " lstm (LSTM)                 (None, 50, 100)           60400     \n",
            "                                                                 \n",
            " lstm_1 (LSTM)               (None, 100)               80400     \n",
            "                                                                 \n",
            " dense (Dense)               (None, 100)               10100     \n",
            "                                                                 \n",
            " dense_1 (Dense)             (None, 10693)             1079993   \n",
            "                                                                 \n",
            "=================================================================\n",
            "Total params: 1,765,543\n",
            "Trainable params: 1,765,543\n",
            "Non-trainable params: 0\n",
            "_________________________________________________________________\n"
          ]
        }
      ]
    },
    {
      "cell_type": "code",
      "source": [
        "model.compile(loss = 'categorical_crossentropy', optimizer = 'adam', metrics = ['accuracy'])"
      ],
      "metadata": {
        "id": "E2KbEL7OuoYB"
      },
      "execution_count": null,
      "outputs": []
    },
    {
      "cell_type": "code",
      "source": [
        "history = model.fit(X, y, batch_size = 256, epochs = 150)"
      ],
      "metadata": {
        "colab": {
          "base_uri": "https://localhost:8080/"
        },
        "id": "yWQWdfcquqmw",
        "outputId": "b539fad5-edef-4446-9d53-39efac63c28c"
      },
      "execution_count": null,
      "outputs": [
        {
          "output_type": "stream",
          "name": "stdout",
          "text": [
            "Epoch 1/150\n",
            "637/637 [==============================] - 72s 95ms/step - loss: 6.5315 - accuracy: 0.0487\n",
            "Epoch 2/150\n",
            "637/637 [==============================] - 21s 33ms/step - loss: 6.0605 - accuracy: 0.0687\n",
            "Epoch 3/150\n",
            "637/637 [==============================] - 17s 27ms/step - loss: 5.8323 - accuracy: 0.0869\n",
            "Epoch 4/150\n",
            "637/637 [==============================] - 15s 24ms/step - loss: 5.6395 - accuracy: 0.1021\n",
            "Epoch 5/150\n",
            "637/637 [==============================] - 15s 24ms/step - loss: 5.4987 - accuracy: 0.1105\n",
            "Epoch 6/150\n",
            "637/637 [==============================] - 14s 22ms/step - loss: 5.3764 - accuracy: 0.1167\n",
            "Epoch 7/150\n",
            "637/637 [==============================] - 14s 22ms/step - loss: 5.2673 - accuracy: 0.1221\n",
            "Epoch 8/150\n",
            "637/637 [==============================] - 13s 20ms/step - loss: 5.1598 - accuracy: 0.1259\n",
            "Epoch 9/150\n",
            "637/637 [==============================] - 14s 21ms/step - loss: 5.0599 - accuracy: 0.1302\n",
            "Epoch 10/150\n",
            "637/637 [==============================] - 13s 20ms/step - loss: 4.9653 - accuracy: 0.1336\n",
            "Epoch 11/150\n",
            "637/637 [==============================] - 14s 21ms/step - loss: 4.8722 - accuracy: 0.1368\n",
            "Epoch 12/150\n",
            "637/637 [==============================] - 13s 21ms/step - loss: 4.7833 - accuracy: 0.1399\n",
            "Epoch 13/150\n",
            "637/637 [==============================] - 13s 21ms/step - loss: 4.6960 - accuracy: 0.1433\n",
            "Epoch 14/150\n",
            "637/637 [==============================] - 13s 20ms/step - loss: 4.6092 - accuracy: 0.1458\n",
            "Epoch 15/150\n",
            "637/637 [==============================] - 13s 20ms/step - loss: 4.5248 - accuracy: 0.1509\n",
            "Epoch 16/150\n",
            "637/637 [==============================] - 13s 21ms/step - loss: 4.4435 - accuracy: 0.1551\n",
            "Epoch 17/150\n",
            "637/637 [==============================] - 13s 20ms/step - loss: 4.3632 - accuracy: 0.1606\n",
            "Epoch 18/150\n",
            "637/637 [==============================] - 13s 20ms/step - loss: 4.2877 - accuracy: 0.1661\n",
            "Epoch 19/150\n",
            "637/637 [==============================] - 13s 20ms/step - loss: 4.2141 - accuracy: 0.1732\n",
            "Epoch 20/150\n",
            "637/637 [==============================] - 13s 21ms/step - loss: 4.1472 - accuracy: 0.1791\n",
            "Epoch 21/150\n",
            "637/637 [==============================] - 13s 20ms/step - loss: 4.0815 - accuracy: 0.1862\n",
            "Epoch 22/150\n",
            "637/637 [==============================] - 13s 20ms/step - loss: 4.0223 - accuracy: 0.1931\n",
            "Epoch 23/150\n",
            "637/637 [==============================] - 12s 20ms/step - loss: 3.9662 - accuracy: 0.2002\n",
            "Epoch 24/150\n",
            "637/637 [==============================] - 14s 21ms/step - loss: 3.9148 - accuracy: 0.2061\n",
            "Epoch 25/150\n",
            "637/637 [==============================] - 13s 21ms/step - loss: 3.8645 - accuracy: 0.2120\n",
            "Epoch 26/150\n",
            "637/637 [==============================] - 12s 19ms/step - loss: 3.8177 - accuracy: 0.2190\n",
            "Epoch 27/150\n",
            "637/637 [==============================] - 13s 20ms/step - loss: 3.7729 - accuracy: 0.2238\n",
            "Epoch 28/150\n",
            "637/637 [==============================] - 13s 20ms/step - loss: 3.7301 - accuracy: 0.2295\n",
            "Epoch 29/150\n",
            "637/637 [==============================] - 13s 20ms/step - loss: 3.6897 - accuracy: 0.2348\n",
            "Epoch 30/150\n",
            "637/637 [==============================] - 13s 20ms/step - loss: 3.6506 - accuracy: 0.2399\n",
            "Epoch 31/150\n",
            "637/637 [==============================] - 13s 20ms/step - loss: 3.6109 - accuracy: 0.2454\n",
            "Epoch 32/150\n",
            "637/637 [==============================] - 13s 20ms/step - loss: 3.5726 - accuracy: 0.2513\n",
            "Epoch 33/150\n",
            "637/637 [==============================] - 13s 20ms/step - loss: 3.5369 - accuracy: 0.2562\n",
            "Epoch 34/150\n",
            "637/637 [==============================] - 13s 20ms/step - loss: 3.5007 - accuracy: 0.2608\n",
            "Epoch 35/150\n",
            "637/637 [==============================] - 13s 20ms/step - loss: 3.4661 - accuracy: 0.2661\n",
            "Epoch 36/150\n",
            "637/637 [==============================] - 13s 20ms/step - loss: 3.4316 - accuracy: 0.2715\n",
            "Epoch 37/150\n",
            "637/637 [==============================] - 13s 20ms/step - loss: 3.3998 - accuracy: 0.2758\n",
            "Epoch 38/150\n",
            "637/637 [==============================] - 13s 20ms/step - loss: 3.3650 - accuracy: 0.2815\n",
            "Epoch 39/150\n",
            "637/637 [==============================] - 13s 20ms/step - loss: 3.3350 - accuracy: 0.2858\n",
            "Epoch 40/150\n",
            "637/637 [==============================] - 13s 20ms/step - loss: 3.3073 - accuracy: 0.2897\n",
            "Epoch 41/150\n",
            "637/637 [==============================] - 13s 20ms/step - loss: 3.2739 - accuracy: 0.2941\n",
            "Epoch 42/150\n",
            "637/637 [==============================] - 13s 20ms/step - loss: 3.2428 - accuracy: 0.2989\n",
            "Epoch 43/150\n",
            "637/637 [==============================] - 13s 20ms/step - loss: 3.2138 - accuracy: 0.3034\n",
            "Epoch 44/150\n",
            "637/637 [==============================] - 13s 21ms/step - loss: 3.1874 - accuracy: 0.3078\n",
            "Epoch 45/150\n",
            "637/637 [==============================] - 13s 20ms/step - loss: 3.1589 - accuracy: 0.3123\n",
            "Epoch 46/150\n",
            "637/637 [==============================] - 13s 20ms/step - loss: 3.1326 - accuracy: 0.3174\n",
            "Epoch 47/150\n",
            "637/637 [==============================] - 14s 21ms/step - loss: 3.1050 - accuracy: 0.3214\n",
            "Epoch 48/150\n",
            "637/637 [==============================] - 13s 20ms/step - loss: 3.0779 - accuracy: 0.3248\n",
            "Epoch 49/150\n",
            "637/637 [==============================] - 13s 20ms/step - loss: 3.0517 - accuracy: 0.3291\n",
            "Epoch 50/150\n",
            "637/637 [==============================] - 13s 20ms/step - loss: 3.0267 - accuracy: 0.3335\n",
            "Epoch 51/150\n",
            "637/637 [==============================] - 13s 20ms/step - loss: 3.0013 - accuracy: 0.3375\n",
            "Epoch 52/150\n",
            "637/637 [==============================] - 13s 20ms/step - loss: 2.9780 - accuracy: 0.3409\n",
            "Epoch 53/150\n",
            "637/637 [==============================] - 13s 21ms/step - loss: 2.9489 - accuracy: 0.3463\n",
            "Epoch 54/150\n",
            "637/637 [==============================] - 13s 20ms/step - loss: 2.9278 - accuracy: 0.3484\n",
            "Epoch 55/150\n",
            "637/637 [==============================] - 13s 20ms/step - loss: 2.9017 - accuracy: 0.3540\n",
            "Epoch 56/150\n",
            "637/637 [==============================] - 13s 20ms/step - loss: 2.8797 - accuracy: 0.3581\n",
            "Epoch 57/150\n",
            "637/637 [==============================] - 13s 20ms/step - loss: 2.8545 - accuracy: 0.3616\n",
            "Epoch 58/150\n",
            "637/637 [==============================] - 13s 20ms/step - loss: 2.8320 - accuracy: 0.3662\n",
            "Epoch 59/150\n",
            "637/637 [==============================] - 13s 20ms/step - loss: 2.8093 - accuracy: 0.3694\n",
            "Epoch 60/150\n",
            "637/637 [==============================] - 13s 20ms/step - loss: 2.7857 - accuracy: 0.3735\n",
            "Epoch 61/150\n",
            "637/637 [==============================] - 13s 21ms/step - loss: 2.7620 - accuracy: 0.3780\n",
            "Epoch 62/150\n",
            "637/637 [==============================] - 13s 20ms/step - loss: 2.7400 - accuracy: 0.3808\n",
            "Epoch 63/150\n",
            "637/637 [==============================] - 13s 20ms/step - loss: 2.7214 - accuracy: 0.3843\n",
            "Epoch 64/150\n",
            "637/637 [==============================] - 12s 20ms/step - loss: 2.6995 - accuracy: 0.3887\n",
            "Epoch 65/150\n",
            "637/637 [==============================] - 13s 20ms/step - loss: 2.6747 - accuracy: 0.3949\n",
            "Epoch 66/150\n",
            "637/637 [==============================] - 13s 20ms/step - loss: 2.6580 - accuracy: 0.3966\n",
            "Epoch 67/150\n",
            "637/637 [==============================] - 12s 19ms/step - loss: 2.6387 - accuracy: 0.3995\n",
            "Epoch 68/150\n",
            "637/637 [==============================] - 13s 20ms/step - loss: 2.6175 - accuracy: 0.4023\n",
            "Epoch 69/150\n",
            "637/637 [==============================] - 13s 20ms/step - loss: 2.5951 - accuracy: 0.4075\n",
            "Epoch 70/150\n",
            "637/637 [==============================] - 13s 20ms/step - loss: 2.5778 - accuracy: 0.4110\n",
            "Epoch 71/150\n",
            "637/637 [==============================] - 13s 20ms/step - loss: 2.5597 - accuracy: 0.4130\n",
            "Epoch 72/150\n",
            "637/637 [==============================] - 13s 20ms/step - loss: 2.5362 - accuracy: 0.4182\n",
            "Epoch 73/150\n",
            "637/637 [==============================] - 13s 21ms/step - loss: 2.5194 - accuracy: 0.4217\n",
            "Epoch 74/150\n",
            "637/637 [==============================] - 13s 20ms/step - loss: 2.5007 - accuracy: 0.4240\n",
            "Epoch 75/150\n",
            "637/637 [==============================] - 13s 20ms/step - loss: 2.4825 - accuracy: 0.4281\n",
            "Epoch 76/150\n",
            "637/637 [==============================] - 13s 20ms/step - loss: 2.4615 - accuracy: 0.4320\n",
            "Epoch 77/150\n",
            "637/637 [==============================] - 13s 20ms/step - loss: 2.4472 - accuracy: 0.4344\n",
            "Epoch 78/150\n",
            "637/637 [==============================] - 13s 20ms/step - loss: 2.4267 - accuracy: 0.4378\n",
            "Epoch 79/150\n",
            "637/637 [==============================] - 13s 21ms/step - loss: 2.4102 - accuracy: 0.4400\n",
            "Epoch 80/150\n",
            "637/637 [==============================] - 13s 21ms/step - loss: 2.3930 - accuracy: 0.4438\n",
            "Epoch 81/150\n",
            "637/637 [==============================] - 13s 20ms/step - loss: 2.3765 - accuracy: 0.4473\n",
            "Epoch 82/150\n",
            "637/637 [==============================] - 13s 20ms/step - loss: 2.3615 - accuracy: 0.4504\n",
            "Epoch 83/150\n",
            "637/637 [==============================] - 13s 21ms/step - loss: 2.3435 - accuracy: 0.4539\n",
            "Epoch 84/150\n",
            "637/637 [==============================] - 13s 20ms/step - loss: 2.3300 - accuracy: 0.4561\n",
            "Epoch 85/150\n",
            "637/637 [==============================] - 13s 20ms/step - loss: 2.3125 - accuracy: 0.4607\n",
            "Epoch 86/150\n",
            "637/637 [==============================] - 13s 20ms/step - loss: 2.2919 - accuracy: 0.4641\n",
            "Epoch 87/150\n",
            "637/637 [==============================] - 13s 20ms/step - loss: 2.2776 - accuracy: 0.4669\n",
            "Epoch 88/150\n",
            "637/637 [==============================] - 13s 21ms/step - loss: 2.2665 - accuracy: 0.4679\n",
            "Epoch 89/150\n",
            "637/637 [==============================] - 13s 20ms/step - loss: 2.2508 - accuracy: 0.4715\n",
            "Epoch 90/150\n",
            "637/637 [==============================] - 13s 20ms/step - loss: 2.2328 - accuracy: 0.4750\n",
            "Epoch 91/150\n",
            "637/637 [==============================] - 13s 21ms/step - loss: 2.2186 - accuracy: 0.4783\n",
            "Epoch 92/150\n",
            "637/637 [==============================] - 13s 20ms/step - loss: 2.2013 - accuracy: 0.4806\n",
            "Epoch 93/150\n",
            "637/637 [==============================] - 13s 20ms/step - loss: 2.1860 - accuracy: 0.4840\n",
            "Epoch 94/150\n",
            "637/637 [==============================] - 13s 21ms/step - loss: 2.1799 - accuracy: 0.4856\n",
            "Epoch 95/150\n",
            "637/637 [==============================] - 13s 21ms/step - loss: 2.1592 - accuracy: 0.4900\n",
            "Epoch 96/150\n",
            "637/637 [==============================] - 14s 22ms/step - loss: 2.1474 - accuracy: 0.4912\n",
            "Epoch 97/150\n",
            "637/637 [==============================] - 13s 21ms/step - loss: 2.1293 - accuracy: 0.4954\n",
            "Epoch 98/150\n",
            "637/637 [==============================] - 13s 21ms/step - loss: 2.1231 - accuracy: 0.4959\n",
            "Epoch 99/150\n",
            "637/637 [==============================] - 13s 21ms/step - loss: 2.1044 - accuracy: 0.5000\n",
            "Epoch 100/150\n",
            "637/637 [==============================] - 13s 20ms/step - loss: 2.0892 - accuracy: 0.5030\n",
            "Epoch 101/150\n",
            "637/637 [==============================] - 14s 22ms/step - loss: 2.0783 - accuracy: 0.5049\n",
            "Epoch 102/150\n",
            "637/637 [==============================] - 13s 21ms/step - loss: 2.0698 - accuracy: 0.5066\n",
            "Epoch 103/150\n",
            "637/637 [==============================] - 13s 20ms/step - loss: 2.0580 - accuracy: 0.5081\n",
            "Epoch 104/150\n",
            "637/637 [==============================] - 13s 20ms/step - loss: 2.0374 - accuracy: 0.5131\n",
            "Epoch 105/150\n",
            "637/637 [==============================] - 13s 20ms/step - loss: 2.0258 - accuracy: 0.5161\n",
            "Epoch 106/150\n",
            "637/637 [==============================] - 13s 21ms/step - loss: 2.0148 - accuracy: 0.5179\n",
            "Epoch 107/150\n",
            "637/637 [==============================] - 13s 21ms/step - loss: 1.9999 - accuracy: 0.5205\n",
            "Epoch 108/150\n",
            "637/637 [==============================] - 13s 21ms/step - loss: 1.9924 - accuracy: 0.5225\n",
            "Epoch 109/150\n",
            "637/637 [==============================] - 14s 21ms/step - loss: 1.9760 - accuracy: 0.5256\n",
            "Epoch 110/150\n",
            "637/637 [==============================] - 14s 21ms/step - loss: 1.9640 - accuracy: 0.5282\n",
            "Epoch 111/150\n",
            "637/637 [==============================] - 13s 21ms/step - loss: 1.9579 - accuracy: 0.5281\n",
            "Epoch 112/150\n",
            "637/637 [==============================] - 13s 21ms/step - loss: 1.9497 - accuracy: 0.5308\n",
            "Epoch 113/150\n",
            "637/637 [==============================] - 13s 21ms/step - loss: 1.9358 - accuracy: 0.5336\n",
            "Epoch 114/150\n",
            "637/637 [==============================] - 13s 21ms/step - loss: 1.9187 - accuracy: 0.5374\n",
            "Epoch 115/150\n",
            "637/637 [==============================] - 13s 21ms/step - loss: 1.9123 - accuracy: 0.5382\n",
            "Epoch 116/150\n",
            "637/637 [==============================] - 13s 20ms/step - loss: 1.8982 - accuracy: 0.5420\n",
            "Epoch 117/150\n",
            "637/637 [==============================] - 13s 20ms/step - loss: 1.8854 - accuracy: 0.5443\n",
            "Epoch 118/150\n",
            "637/637 [==============================] - 14s 23ms/step - loss: 1.8821 - accuracy: 0.5446\n",
            "Epoch 119/150\n",
            "637/637 [==============================] - 14s 21ms/step - loss: 1.8719 - accuracy: 0.5466\n",
            "Epoch 120/150\n",
            "637/637 [==============================] - 13s 21ms/step - loss: 1.8552 - accuracy: 0.5505\n",
            "Epoch 121/150\n",
            "637/637 [==============================] - 13s 21ms/step - loss: 1.8497 - accuracy: 0.5513\n",
            "Epoch 122/150\n",
            "637/637 [==============================] - 14s 21ms/step - loss: 1.8375 - accuracy: 0.5539\n",
            "Epoch 123/150\n",
            "637/637 [==============================] - 13s 21ms/step - loss: 1.8254 - accuracy: 0.5565\n",
            "Epoch 124/150\n",
            "637/637 [==============================] - 13s 21ms/step - loss: 1.8199 - accuracy: 0.5579\n",
            "Epoch 125/150\n",
            "637/637 [==============================] - 13s 20ms/step - loss: 1.8064 - accuracy: 0.5609\n",
            "Epoch 126/150\n",
            "637/637 [==============================] - 13s 21ms/step - loss: 1.7967 - accuracy: 0.5629\n",
            "Epoch 127/150\n",
            "637/637 [==============================] - 13s 20ms/step - loss: 1.7861 - accuracy: 0.5658\n",
            "Epoch 128/150\n",
            "637/637 [==============================] - 14s 21ms/step - loss: 1.7881 - accuracy: 0.5653\n",
            "Epoch 129/150\n",
            "637/637 [==============================] - 13s 20ms/step - loss: 1.7750 - accuracy: 0.5674\n",
            "Epoch 130/150\n",
            "637/637 [==============================] - 13s 21ms/step - loss: 1.7671 - accuracy: 0.5686\n",
            "Epoch 131/150\n",
            "637/637 [==============================] - 13s 20ms/step - loss: 1.7522 - accuracy: 0.5724\n",
            "Epoch 132/150\n",
            "637/637 [==============================] - 14s 21ms/step - loss: 1.7437 - accuracy: 0.5741\n",
            "Epoch 133/150\n",
            "637/637 [==============================] - 13s 20ms/step - loss: 1.7355 - accuracy: 0.5755\n",
            "Epoch 134/150\n",
            "637/637 [==============================] - 13s 20ms/step - loss: 1.7348 - accuracy: 0.5756\n",
            "Epoch 135/150\n",
            "637/637 [==============================] - 13s 21ms/step - loss: 1.7216 - accuracy: 0.5772\n",
            "Epoch 136/150\n",
            "637/637 [==============================] - 13s 21ms/step - loss: 1.7088 - accuracy: 0.5814\n",
            "Epoch 137/150\n",
            "637/637 [==============================] - 13s 20ms/step - loss: 1.6996 - accuracy: 0.5826\n",
            "Epoch 138/150\n",
            "637/637 [==============================] - 13s 21ms/step - loss: 1.6954 - accuracy: 0.5830\n",
            "Epoch 139/150\n",
            "637/637 [==============================] - 13s 21ms/step - loss: 1.6883 - accuracy: 0.5852\n",
            "Epoch 140/150\n",
            "637/637 [==============================] - 13s 20ms/step - loss: 1.6804 - accuracy: 0.5864\n",
            "Epoch 141/150\n",
            "637/637 [==============================] - 14s 22ms/step - loss: 1.6694 - accuracy: 0.5893\n",
            "Epoch 142/150\n",
            "637/637 [==============================] - 13s 20ms/step - loss: 1.6646 - accuracy: 0.5902\n",
            "Epoch 143/150\n",
            "637/637 [==============================] - 13s 20ms/step - loss: 1.6533 - accuracy: 0.5936\n",
            "Epoch 144/150\n",
            "637/637 [==============================] - 13s 20ms/step - loss: 1.6488 - accuracy: 0.5938\n",
            "Epoch 145/150\n",
            "637/637 [==============================] - 13s 21ms/step - loss: 1.6508 - accuracy: 0.5922\n",
            "Epoch 146/150\n",
            "637/637 [==============================] - 13s 21ms/step - loss: 1.6396 - accuracy: 0.5952\n",
            "Epoch 147/150\n",
            "637/637 [==============================] - 13s 21ms/step - loss: 1.6312 - accuracy: 0.5975\n",
            "Epoch 148/150\n",
            "637/637 [==============================] - 13s 20ms/step - loss: 1.6136 - accuracy: 0.6022\n",
            "Epoch 149/150\n",
            "637/637 [==============================] - 13s 21ms/step - loss: 1.6132 - accuracy: 0.6007\n",
            "Epoch 150/150\n",
            "637/637 [==============================] - 14s 21ms/step - loss: 1.6014 - accuracy: 0.6038\n"
          ]
        }
      ]
    },
    {
      "cell_type": "code",
      "source": [
        "seed_text=lines[12421]  #random line\n",
        "seed_text"
      ],
      "metadata": {
        "colab": {
          "base_uri": "https://localhost:8080/",
          "height": 53
        },
        "id": "FX61kVqZzxRj",
        "outputId": "af4eece2-cb6a-4a28-9f62-4277c4c20a91"
      },
      "execution_count": null,
      "outputs": [
        {
          "output_type": "execute_result",
          "data": {
            "text/plain": [
              "'we threw off the hungarian yoke we of the dracula blood were amongst their leaders for our spirit would not brook that we were not free ah young sir the szekelysand the dracula as their hearts blood their brains and their swordscan boast a record that mushroom growths like the hapsburgs'"
            ],
            "application/vnd.google.colaboratory.intrinsic+json": {
              "type": "string"
            }
          },
          "metadata": {},
          "execution_count": 25
        }
      ]
    },
    {
      "cell_type": "code",
      "source": [
        "def generate_text_seq(model, tokenizer, text_seq_length, seed_text, n_words):\n",
        "  text = []\n",
        "\n",
        "  for _ in range(n_words):\n",
        "    encoded = tokenizer.texts_to_sequences([seed_text])[0]\n",
        "    encoded = pad_sequences([encoded], maxlen = text_seq_length, truncating='pre')\n",
        "\n",
        "    y_predict = np.argmax(model.predict(encoded), axis=-1)\n",
        "\n",
        "    predicted_word = ''\n",
        "    for word, index in tokenizer.word_index.items():\n",
        "      if index == y_predict:\n",
        "        predicted_word = word\n",
        "        break\n",
        "    seed_text = seed_text + ' ' + predicted_word\n",
        "    text.append(predicted_word)\n",
        "  return ' '.join(text)"
      ],
      "metadata": {
        "id": "q8ZN2euDz3Yy"
      },
      "execution_count": null,
      "outputs": []
    },
    {
      "cell_type": "code",
      "source": [
        "generate_text_seq(model, tokenizer, seq_length, seed_text, 100)"
      ],
      "metadata": {
        "colab": {
          "base_uri": "https://localhost:8080/",
          "height": 1000
        },
        "id": "s__cEdlrz4pY",
        "outputId": "27515785-738b-40dd-f7e6-46285d8bc981"
      },
      "execution_count": null,
      "outputs": [
        {
          "output_type": "stream",
          "name": "stdout",
          "text": [
            "1/1 [==============================] - 1s 718ms/step\n",
            "1/1 [==============================] - 0s 23ms/step\n",
            "1/1 [==============================] - 0s 22ms/step\n",
            "1/1 [==============================] - 0s 20ms/step\n",
            "1/1 [==============================] - 0s 24ms/step\n",
            "1/1 [==============================] - 0s 23ms/step\n",
            "1/1 [==============================] - 0s 23ms/step\n",
            "1/1 [==============================] - 0s 22ms/step\n",
            "1/1 [==============================] - 0s 22ms/step\n",
            "1/1 [==============================] - 0s 22ms/step\n",
            "1/1 [==============================] - 0s 23ms/step\n",
            "1/1 [==============================] - 0s 21ms/step\n",
            "1/1 [==============================] - 0s 20ms/step\n",
            "1/1 [==============================] - 0s 21ms/step\n",
            "1/1 [==============================] - 0s 21ms/step\n",
            "1/1 [==============================] - 0s 23ms/step\n",
            "1/1 [==============================] - 0s 28ms/step\n",
            "1/1 [==============================] - 0s 20ms/step\n",
            "1/1 [==============================] - 0s 24ms/step\n",
            "1/1 [==============================] - 0s 29ms/step\n",
            "1/1 [==============================] - 0s 23ms/step\n",
            "1/1 [==============================] - 0s 20ms/step\n",
            "1/1 [==============================] - 0s 22ms/step\n",
            "1/1 [==============================] - 0s 21ms/step\n",
            "1/1 [==============================] - 0s 20ms/step\n",
            "1/1 [==============================] - 0s 21ms/step\n",
            "1/1 [==============================] - 0s 20ms/step\n",
            "1/1 [==============================] - 0s 20ms/step\n",
            "1/1 [==============================] - 0s 22ms/step\n",
            "1/1 [==============================] - 0s 23ms/step\n",
            "1/1 [==============================] - 0s 21ms/step\n",
            "1/1 [==============================] - 0s 22ms/step\n",
            "1/1 [==============================] - 0s 21ms/step\n",
            "1/1 [==============================] - 0s 23ms/step\n",
            "1/1 [==============================] - 0s 22ms/step\n",
            "1/1 [==============================] - 0s 23ms/step\n",
            "1/1 [==============================] - 0s 20ms/step\n",
            "1/1 [==============================] - 0s 20ms/step\n",
            "1/1 [==============================] - 0s 20ms/step\n",
            "1/1 [==============================] - 0s 25ms/step\n",
            "1/1 [==============================] - 0s 21ms/step\n",
            "1/1 [==============================] - 0s 23ms/step\n",
            "1/1 [==============================] - 0s 21ms/step\n",
            "1/1 [==============================] - 0s 21ms/step\n",
            "1/1 [==============================] - 0s 19ms/step\n",
            "1/1 [==============================] - 0s 20ms/step\n",
            "1/1 [==============================] - 0s 21ms/step\n",
            "1/1 [==============================] - 0s 20ms/step\n",
            "1/1 [==============================] - 0s 21ms/step\n",
            "1/1 [==============================] - 0s 22ms/step\n",
            "1/1 [==============================] - 0s 21ms/step\n",
            "1/1 [==============================] - 0s 22ms/step\n",
            "1/1 [==============================] - 0s 22ms/step\n",
            "1/1 [==============================] - 0s 24ms/step\n",
            "1/1 [==============================] - 0s 33ms/step\n",
            "1/1 [==============================] - 0s 21ms/step\n",
            "1/1 [==============================] - 0s 21ms/step\n",
            "1/1 [==============================] - 0s 21ms/step\n",
            "1/1 [==============================] - 0s 20ms/step\n",
            "1/1 [==============================] - 0s 24ms/step\n",
            "1/1 [==============================] - 0s 23ms/step\n",
            "1/1 [==============================] - 0s 21ms/step\n",
            "1/1 [==============================] - 0s 21ms/step\n",
            "1/1 [==============================] - 0s 22ms/step\n",
            "1/1 [==============================] - 0s 22ms/step\n",
            "1/1 [==============================] - 0s 21ms/step\n",
            "1/1 [==============================] - 0s 25ms/step\n",
            "1/1 [==============================] - 0s 20ms/step\n",
            "1/1 [==============================] - 0s 22ms/step\n",
            "1/1 [==============================] - 0s 24ms/step\n",
            "1/1 [==============================] - 0s 25ms/step\n",
            "1/1 [==============================] - 0s 22ms/step\n",
            "1/1 [==============================] - 0s 20ms/step\n",
            "1/1 [==============================] - 0s 21ms/step\n",
            "1/1 [==============================] - 0s 21ms/step\n",
            "1/1 [==============================] - 0s 23ms/step\n",
            "1/1 [==============================] - 0s 22ms/step\n",
            "1/1 [==============================] - 0s 23ms/step\n",
            "1/1 [==============================] - 0s 22ms/step\n",
            "1/1 [==============================] - 0s 22ms/step\n",
            "1/1 [==============================] - 0s 20ms/step\n",
            "1/1 [==============================] - 0s 24ms/step\n",
            "1/1 [==============================] - 0s 23ms/step\n",
            "1/1 [==============================] - 0s 23ms/step\n",
            "1/1 [==============================] - 0s 21ms/step\n",
            "1/1 [==============================] - 0s 22ms/step\n",
            "1/1 [==============================] - 0s 22ms/step\n",
            "1/1 [==============================] - 0s 23ms/step\n",
            "1/1 [==============================] - 0s 20ms/step\n",
            "1/1 [==============================] - 0s 23ms/step\n",
            "1/1 [==============================] - 0s 20ms/step\n",
            "1/1 [==============================] - 0s 22ms/step\n",
            "1/1 [==============================] - 0s 23ms/step\n",
            "1/1 [==============================] - 0s 21ms/step\n",
            "1/1 [==============================] - 0s 22ms/step\n",
            "1/1 [==============================] - 0s 21ms/step\n",
            "1/1 [==============================] - 0s 23ms/step\n",
            "1/1 [==============================] - 0s 23ms/step\n",
            "1/1 [==============================] - 0s 24ms/step\n",
            "1/1 [==============================] - 0s 21ms/step\n"
          ]
        },
        {
          "output_type": "execute_result",
          "data": {
            "text/plain": [
              "'and the romanoffs can never reach the warlike days are over blood is too precious a thing as youre doing john in the early opposite us why had particular door should have been of time devils and i sometimes seemed to become conscious of our purpose his face began to get his screwdriver and along the air i could not believe that it was a strange old children means in fear and advertise it back to me saying jonathan harker i shall put into wile here the time we are all right and see and of course that this be'"
            ],
            "application/vnd.google.colaboratory.intrinsic+json": {
              "type": "string"
            }
          },
          "metadata": {},
          "execution_count": 27
        }
      ]
    },
    {
      "cell_type": "code",
      "source": [
        "\n",
        "import matplotlib.pyplot as plt\n",
        "\n",
        "# Plot loss vs epoch\n",
        "plt.plot(history.history['loss'])\n",
        "plt.title('Model Loss')\n",
        "plt.xlabel('Epoch')\n",
        "plt.ylabel('Loss')\n",
        "plt.show()\n",
        "\n",
        "# Plot accuracy vs epoch\n",
        "plt.plot(history.history['accuracy'])\n",
        "plt.title('Model Accuracy')\n",
        "plt.xlabel('Epoch')\n",
        "plt.ylabel('Accuracy')\n",
        "plt.show()"
      ],
      "metadata": {
        "colab": {
          "base_uri": "https://localhost:8080/",
          "height": 927
        },
        "id": "_ndpZpz7ohbr",
        "outputId": "31cb8684-82a1-47ee-d01a-d2cdd3e987fb"
      },
      "execution_count": null,
      "outputs": [
        {
          "output_type": "display_data",
          "data": {
            "text/plain": [
              "<Figure size 640x480 with 1 Axes>"
            ],
            "image/png": "[encoded data removed]"
          },
          "metadata": {}
        },
        {
          "output_type": "display_data",
          "data": {
            "text/plain": [
              "<Figure size 640x480 with 1 Axes>"
            ],
            "image/png": "[encoded data removed]"
          },
          "metadata": {}
        }
      ]
    },
    {
      "cell_type": "code",
      "source": [],
      "metadata": {
        "id": "cYsWjof8kiCY"
      },
      "execution_count": null,
      "outputs": []
    }
  ]
}